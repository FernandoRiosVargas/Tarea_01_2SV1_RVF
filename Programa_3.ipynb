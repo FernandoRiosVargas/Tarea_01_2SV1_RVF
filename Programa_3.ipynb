{
  "nbformat": 4,
  "nbformat_minor": 0,
  "metadata": {
    "colab": {
      "name": "Te damos la bienvenida a Colaboratory",
      "provenance": [],
      "collapsed_sections": []
    },
    "kernelspec": {
      "display_name": "Python 3",
      "name": "python3"
    }
  },
  "cells": [
    {
      "cell_type": "markdown",
      "metadata": {
        "id": "yS2yPPqDtjCV"
      },
      "source": [
        "3. Escribir una funcion que reciba como argumentos el numero de horas y el costo por hora dejarlo\n",
        "como argumento predefinido en 150 la funcion debe de regresar el pago del empleado en un\n",
        "dia, en una semana (5 dias) y en un mes (20 dias)."
      ]
    },
    {
      "cell_type": "code",
      "metadata": {
        "id": "uvVMvf74t0zW",
        "outputId": "87e88e36-17a9-424d-f1d2-7da64bc3814f",
        "colab": {
          "base_uri": "https://localhost:8080/"
        }
      },
      "source": [
        "def pago(val1, val2):\n",
        "  pago_dia = val1 * val2\n",
        "  pago_semana = pago_dia * 5\n",
        "  pago_mes = pago_semana * 4\n",
        "  print(\"El pago por dia es: \",pago_dia)\n",
        "  print(\"El pago por semana es: \",pago_semana)\n",
        "  print(\"El pago por mes es: \",pago_mes)\n",
        "\n",
        "h = float(input(\"introdusca el numero de horas laboradas: \"))\n",
        "p = 150\n",
        "pago(h, p)\n"
      ],
      "execution_count": 3,
      "outputs": [
        {
          "output_type": "stream",
          "text": [
            "introdusca el numero de horas laboradas: 4\n",
            "El pago por dia es:  600.0\n",
            "El pago por semana es:  3000.0\n",
            "El pago por mes es:  12000.0\n"
          ],
          "name": "stdout"
        }
      ]
    }
  ]
}