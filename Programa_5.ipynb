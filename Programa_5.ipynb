{
  "nbformat": 4,
  "nbformat_minor": 0,
  "metadata": {
    "colab": {
      "name": "Te damos la bienvenida a Colaboratory",
      "provenance": [],
      "collapsed_sections": []
    },
    "kernelspec": {
      "display_name": "Python 3",
      "name": "python3"
    }
  },
  "cells": [
    {
      "cell_type": "markdown",
      "metadata": {
        "id": "pCmnsk6vEns-"
      },
      "source": [
        "5. Una tienda de juguetes tiene dos productos estrella, un payaso y un juego de mesa, el payaso\n",
        "pesa 150 gr y el juego de mesa pesa 170 gr. Hacer una funcion que reciba el numero de payasos\n",
        "y el numero de juegos de mesa por pedido, si el peso total del pedido es mayor a 10 kg, debe de mandar error, debe de inidicar por cuantos gramos se paso el envio y debe de regresar False\n",
        "al programa principal."
      ]
    },
    {
      "cell_type": "code",
      "metadata": {
        "id": "eEDRyeCkEnLj",
        "outputId": "dd13983a-5de8-44af-9d92-5710771d7d04",
        "colab": {
          "base_uri": "https://localhost:8080/"
        }
      },
      "source": [
        "print(\"Si decea hacer un pedido, este no debe de exeder los 10,000gr entre ambos productos\")\n",
        "print(\"Peso del payaso: 150gr\")\n",
        "print(\"Peso del juego de mesa: 170gr\")\n",
        "def pedido(payasos, peso_p, juegos, peso_j):\n",
        "  pedido_payaso = payasos * peso_p\n",
        "  Pedido_juego = juegos * peso_j\n",
        "  total_pedido = pedido_payaso + Pedido_juego\n",
        "  if total_pedido < 100000:\n",
        "    print(\"Operacion exitosa\")\n",
        "    print(\"El total en gr de su pedido es: \",total_pedido)\n",
        "  else:\n",
        "    print(\"Error\")\n",
        "    sobre_peso = total_pedido - 10000\n",
        "    print(\"Su pedido se excedio por: \",sobre_peso,\"gr\")\n",
        "p = int(input(\"Numero de payasos que decea ordenar: \"))\n",
        "p_p = 150\n",
        "j = int(input(\"Numero de juegos de mesa que decea ordenar: \"))\n",
        "p_j = 170\n",
        "pedido(p, p_p, j, p_j)\n",
        "\n",
        "\n",
        "\n",
        "\n"
      ],
      "execution_count": 58,
      "outputs": [
        {
          "output_type": "stream",
          "text": [
            "Si decea hacer un pedido, este no debe de exeder los 10,000gr entre ambos productos\n",
            "Peso del payaso: 150gr\n",
            "Peso del juego de mesa: 170gr\n",
            "Numero de payasos que decea ordenar: 3456\n",
            "Numero de juegos de mesa que decea ordenar: 23456\n",
            "Error\n",
            "Su pedido se excedio por:  4495920 gr\n"
          ],
          "name": "stdout"
        }
      ]
    }
  ]
}