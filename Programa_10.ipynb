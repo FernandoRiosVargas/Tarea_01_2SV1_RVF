{
  "nbformat": 4,
  "nbformat_minor": 0,
  "metadata": {
    "colab": {
      "name": "Te damos la bienvenida a Colaboratory",
      "provenance": [],
      "collapsed_sections": []
    },
    "kernelspec": {
      "display_name": "Python 3",
      "name": "python3"
    }
  },
  "cells": [
    {
      "cell_type": "markdown",
      "metadata": {
        "id": "m8JBhMLgUit5"
      },
      "source": [
        "10. Escribir una funcion que calcule el area de un circulo y otra que calcule el volumen de un cilindro\n",
        "utilizando la primera funcion.\n"
      ]
    },
    {
      "cell_type": "code",
      "metadata": {
        "id": "TQpCUuCRUjK1",
        "outputId": "fd32c40a-fee6-41e4-d7cc-fa3e9da63a5a",
        "colab": {
          "base_uri": "https://localhost:8080/"
        }
      },
      "source": [
        "r = 0\n",
        "r = float(input(\"introdusca el radio del circulo: \"))\n",
        "def area(r):\n",
        "  circulo = 3.1416*r**2\n",
        "  \n",
        "  return circulo\n",
        "print(\"el area del circulo es: \",area(r))   \n",
        "print(\"Si decea conocer el volumen del cilindro formado a partir del circulo introdusca la altura\")\n",
        "h = 0\n",
        "h = float(input(\"introdusca la altura del cilindro: \"))\n",
        "def volumen (h):\n",
        "  cilindro = area(r)*h\n",
        "\n",
        "  return cilindro\n",
        "print(\"el volumen del cilindro es: \",volumen(h))   \n",
        " \n",
        "\n",
        "\n",
        "\n"
      ],
      "execution_count": 48,
      "outputs": [
        {
          "output_type": "stream",
          "text": [
            "introdusca el radio del circulo: 1\n",
            "el area del circulo es:  3.1416\n",
            "Si decea conocer el volumen del cilindro formado a partir del circulo introdusca la altura\n",
            "introdusca la altura del cilindro: 3\n",
            "el volumen del cilindro es:  9.4248\n"
          ],
          "name": "stdout"
        }
      ]
    }
  ]
}