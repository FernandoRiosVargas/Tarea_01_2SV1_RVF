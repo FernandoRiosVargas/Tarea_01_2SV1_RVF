{
  "nbformat": 4,
  "nbformat_minor": 0,
  "metadata": {
    "colab": {
      "name": "Te damos la bienvenida a Colaboratory",
      "provenance": [],
      "collapsed_sections": []
    },
    "kernelspec": {
      "display_name": "Python 3",
      "name": "python3"
    }
  },
  "cells": [
    {
      "cell_type": "markdown",
      "metadata": {
        "id": "wFlwDMhdwkzX"
      },
      "source": [
        "7. Escribir un programa para un museo, donde se deben de mandar a una funcion los siguientes\n",
        "parametros, edad y ocupacion. Se deben de aplicar los siguintes costos y descuentos\n",
        "\n",
        "Tabla 2: Costos\n",
        "\n",
        "Rango de edad---------------Impuesto\n",
        "\n",
        "Menor de cuatro años------Gratis\n",
        "\n",
        "Entre 4 y 16 años----------------$50\n",
        "\n",
        "Adultos----------------------------- $100\n",
        "\n",
        "\n",
        "Tabla 3: Costos\n",
        "\n",
        "Concepto -------------------------Impuesto\n",
        "\n",
        "Estudiante con credencial---- 10%\n",
        "\n",
        "Docente con credencial --------30%\n",
        "\n",
        "INAPAM ---------------------------------50%\n",
        "\n"
      ]
    },
    {
      "cell_type": "code",
      "metadata": {
        "id": "hZQtvFskwkRx"
      },
      "source": [
        "print(\"MUSEO\")\n",
        "print(\"Costos\")\n",
        "print(\"1. Menor de 4 años\")\n",
        "print(\"2. Entre 4 y 16 años\")\n",
        "print(\"3. Adultos\")\n",
        "\n",
        "costos = int(input(\"Introduzaca una opcion: \"))\n",
        "\n",
        "if(costos==1):\n",
        "  print(\"La entrada es gratis!\")\n",
        "  x = 0\n",
        "elif(costos==2):\n",
        "  print(\"La entrada tiene un costo de $50\")\n",
        "  x = 50\n",
        "elif(costos==3):\n",
        "  print(\"La entrada tiene un costo de $100\")\n",
        "  x = 100\n",
        "else:\n",
        "  print(\"Opcion invalida\") \n",
        "\n",
        "print(\"Descuentos\")\n",
        "print(\"1. Estudiante con credencial 10%\")\n",
        "print(\"2. Docente con credencial 30%\")\n",
        "print(\"3. INAPAM 50%\")\n",
        "print(\"4. No aplico para un descuento\")\n",
        "\n",
        "descuentos = int(input(\"Introdusca una opcion: \"))\n",
        "y = 0\n",
        "if (descuentos==1):\n",
        "    print(\"Se le aplicara un descuento del 10%\")\n",
        "    y= (x*0.10)\n",
        "elif (descuentos==2): \n",
        "    print(\"Se le aplicara un descuento del 30%\")\n",
        "    y= (x*0.30)\n",
        "elif (descuentos==3):\n",
        "    print(\"Se le aplicara un descuento del 50%\")\n",
        "    y= (x*0.50)\n",
        "else: \n",
        "    print(\"Sin descuento\")\n",
        "z= (x-y)\n",
        "print(\"El monto total a pagar es de: \", z)\n",
        "\n",
        "\n"
      ],
      "execution_count": null,
      "outputs": []
    }
  ]
}