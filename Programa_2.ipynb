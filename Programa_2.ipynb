{
  "nbformat": 4,
  "nbformat_minor": 0,
  "metadata": {
    "colab": {
      "name": "Te damos la bienvenida a Colaboratory",
      "provenance": [],
      "collapsed_sections": []
    },
    "kernelspec": {
      "display_name": "Python 3",
      "name": "python3"
    }
  },
  "cells": [
    {
      "cell_type": "markdown",
      "metadata": {
        "id": "xurqhOC5nYqL"
      },
      "source": [
        "Desarrolle un programa en el que el usuario introduzca una cadena de caracteres y un numero\n",
        "entero, despues el programa debe de imprimir la cadena de caracteres tantas veces como el\n",
        "nuemero entero\n",
        "Ejemplo: Si el usuario introduce la cadena de caracteres I <3 IPN y despues introduce 3, la\n",
        "salida del programa debe de ser\n",
        "I <3 IPN\n",
        "I <3 IPN\n",
        "I <3 IPN"
      ]
    },
    {
      "cell_type": "code",
      "metadata": {
        "id": "_B3aeb7xnZFn",
        "outputId": "6cfaac1a-b842-4d03-a171-848a757238be",
        "colab": {
          "base_uri": "https://localhost:8080/"
        }
      },
      "source": [
        "cadena = input(\"Introduce una palabra o frase: \")\n",
        "num = int(input(\"Introduce un numero entero positivo: \"))\n",
        "for i in range(num):\n",
        "    print(cadena)"
      ],
      "execution_count": 53,
      "outputs": [
        {
          "output_type": "stream",
          "text": [
            "Introduce una palabra o frase: fernando\n",
            "Introduce un numero entero positivo: 5\n",
            "fernando\n",
            "fernando\n",
            "fernando\n",
            "fernando\n",
            "fernando\n"
          ],
          "name": "stdout"
        }
      ]
    }
  ]
}