{
  "nbformat": 4,
  "nbformat_minor": 0,
  "metadata": {
    "colab": {
      "name": "Te damos la bienvenida a Colaboratory",
      "provenance": [],
      "collapsed_sections": []
    },
    "kernelspec": {
      "display_name": "Python 3",
      "name": "python3"
    }
  },
  "cells": [
    {
      "cell_type": "markdown",
      "metadata": {
        "id": "atozBJCrzx6t"
      },
      "source": [
        "\n",
        "\n",
        "```\n",
        "1. Desarrollar un programa que lea una variable de tipo entera value, indique si es un numero\n",
        "par o impar.\n",
        "```\n",
        "\n"
      ]
    },
    {
      "cell_type": "code",
      "metadata": {
        "id": "S4_ehgyEzydI",
        "outputId": "f9295cb2-c387-46f3-a725-55ab726bd2ec",
        "colab": {
          "base_uri": "https://localhost:8080/"
        }
      },
      "source": [
        "num = 0\n",
        "num = int(input(\"introdusca un numero:\"))\n",
        "if num%2 == 0:\n",
        "  print(\"El numero\", num, \"es par\")\n",
        "else:\n",
        "    print(\"El numero\", num, \"es impar\")"
      ],
      "execution_count": 6,
      "outputs": [
        {
          "output_type": "stream",
          "text": [
            "introdusca un numero:54\n",
            "El numero 54 es par\n"
          ],
          "name": "stdout"
        }
      ]
    }
  ]
}