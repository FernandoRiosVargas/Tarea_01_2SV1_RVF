{
  "nbformat": 4,
  "nbformat_minor": 0,
  "metadata": {
    "colab": {
      "name": "Te damos la bienvenida a Colaboratory",
      "provenance": [],
      "collapsed_sections": []
    },
    "kernelspec": {
      "display_name": "Python 3",
      "name": "python3"
    }
  },
  "cells": [
    {
      "cell_type": "markdown",
      "metadata": {
        "id": "uQRKmFL21ajr"
      },
      "source": [
        "4. Escribir el codigo de una calculadora, que inicialmente muestre el menu y dependiendo de la\n",
        "opcion elegida por el usuario se desarrolle la operacion, observe que en la division el denominador\n",
        "no puede ser cero, en caso que sea asi, debe de entrar en un bucle while que este leyendo\n",
        "el denominador de nuevo hasta que este sea distinto de cero\n",
        "\n",
        "1. suma\n",
        "\n",
        "2. resta\n",
        "\n",
        "3. multiplicacion\n",
        "\n",
        "4. division\n",
        "\n",
        "Introduzca una opcion:"
      ]
    },
    {
      "cell_type": "code",
      "metadata": {
        "id": "PaSibQLy1xeM",
        "outputId": "0215be1f-1851-482f-f67b-af4b581ab262",
        "colab": {
          "base_uri": "https://localhost:8080/"
        }
      },
      "source": [
        "print(\"calculadora\")\n",
        "print(\"1. suma\")\n",
        "print(\"2. resta\")\n",
        "print(\"3. multiplicacion\")\n",
        "print(\"4. division\")\n",
        "x = int(input(\"Introduzaca una opcion: \"))\n",
        "\n",
        "if(x==1):\n",
        "  u = float(input(\"introduce el primer numero: \"))\n",
        "  v = float(input(\"introduce el segundo numero: \"))\n",
        "  res = u + v\n",
        "  print(\"El resultado de la suma es: \",res)\n",
        "elif(x==2):\n",
        "  u = float(input(\"introduce el primer numero: \"))\n",
        "  v = float(input(\"introduce el segundo numero: \"))\n",
        "  res = u - v\n",
        "  print(\"El resultado de la resta es: \",res)\n",
        "elif(x==3):\n",
        "  u = float(input(\"introduce el primer numero: \"))\n",
        "  v = float(input(\"introduce el segundo numero: \"))\n",
        "  res = u * v\n",
        "  print(\"El resultado de la multiplicacion es: \",res)\n",
        "elif(x==4):\n",
        "  r = float(input(\"introduce el numerador: \"))\n",
        "  f = 0\n",
        "  while(f == 0):\n",
        "    f = float(input(\"introduce el denominador: \"))\n",
        "  res = r / f  \n",
        "  print(\"El resultado de la division es: \",res)    \n",
        "else:\n",
        "  print(\"Opcion invalida\") \n",
        "\n",
        "\n",
        "\n"
      ],
      "execution_count": 50,
      "outputs": [
        {
          "output_type": "stream",
          "text": [
            "calculadora\n",
            "1. suma\n",
            "2. resta\n",
            "3. multiplicacion\n",
            "4. division\n",
            "Introduzaca una opcion: 1\n",
            "introduce el primer numero: 3\n",
            "introduce el segundo numero: 4\n",
            "El resultado de la suma es:  7.0\n"
          ],
          "name": "stdout"
        }
      ]
    }
  ]
}