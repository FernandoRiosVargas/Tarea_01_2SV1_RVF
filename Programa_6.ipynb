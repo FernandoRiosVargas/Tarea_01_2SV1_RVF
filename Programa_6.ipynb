{
  "nbformat": 4,
  "nbformat_minor": 0,
  "metadata": {
    "colab": {
      "name": "Te damos la bienvenida a Colaboratory",
      "provenance": [],
      "collapsed_sections": []
    },
    "kernelspec": {
      "display_name": "Python 3",
      "name": "python3"
    }
  },
  "cells": [
    {
      "cell_type": "markdown",
      "metadata": {
        "id": "MJAIDxPnO0QP"
      },
      "source": [
        "6. Suponga que el impuesto que se debe de pagar por el salario ganado este regido por la siguiente\n",
        "tabla:\n",
        "\n",
        "Ingreso                Impuesto\n",
        "\n",
        "Menos de 10 mil           5%\n",
        "\n",
        "Entre 10 mil y 15 mil     10%\n",
        "\n",
        "Entre 15 mil y 20 mil     15%\n",
        "\n",
        "Mas de 20 mil             18%\n",
        "\n",
        "Desarrolle una funcion que acepte como argumento el salario, y la funcion debe de mostrar el\n",
        "rango en que se encuentra, y debe de regresar el salario con el descuento del impuesto, si la\n",
        "funcion se ha podido desarrollar con exito, debe de regresar True"
      ]
    },
    {
      "cell_type": "code",
      "metadata": {
        "id": "PTn2GC_kOz4I"
      },
      "source": [
        "def impuesto(x):\n",
        "  if salario < 10000:\n",
        "    print(\"A usted le corresponde un descuento del 5%\")\n",
        "    descuento = salario * 0.05  \n",
        "    salario_1 = salario - descuento\n",
        "    print(\"Salario con descuento es: \",salario_1)\n",
        "  elif 10000 <= salario < 15000:\n",
        "    print(\"A usted le corresponde un descuento del 10%\")\n",
        "    descuento = salario * 0.10  \n",
        "    salario_2 = salario - descuento\n",
        "    print(\"Salario con descuento es: \",salario_2) \n",
        "  elif 15000 <= salario < 20000:\n",
        "    print(\"A usted le corresponde un descuento del 15%\")\n",
        "    descuento = salario * 0.15  \n",
        "    salario_3 = salario - descuento\n",
        "    print(\"Salario con descuento es: \",salario_3)\n",
        "  elif salario > 20000:\n",
        "    print(\"A usted le corresponde un descuento del 20%\")\n",
        "    descuento = salario * 0.20  \n",
        "    salario_4 = salario - descuento\n",
        "    print(\"Salario con descuento es: \",salario_4)    \n",
        "  else:\n",
        "     print(\"Error\") \n",
        "salario = float(input(\"¿Cual es su salario neto?: \"))\n",
        "\n",
        "impuesto(salario)\n",
        "\n"
      ],
      "execution_count": null,
      "outputs": []
    }
  ]
}