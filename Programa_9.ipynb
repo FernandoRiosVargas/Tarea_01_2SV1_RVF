{
  "nbformat": 4,
  "nbformat_minor": 0,
  "metadata": {
    "colab": {
      "name": "Te damos la bienvenida a Colaboratory",
      "provenance": [],
      "collapsed_sections": []
    },
    "kernelspec": {
      "display_name": "Python 3",
      "name": "python3"
    }
  },
  "cells": [
    {
      "cell_type": "markdown",
      "metadata": {
        "id": "VkD9yO_3OCFd"
      },
      "source": [
        "9. Escribir una funcion que reciba un numero entero positivo y devuelva su factorial."
      ]
    },
    {
      "cell_type": "code",
      "metadata": {
        "id": "QpPg8xioOWPZ",
        "outputId": "f6fa1c70-9894-4dda-919f-cc938568e4fb",
        "colab": {
          "base_uri": "https://localhost:8080/"
        }
      },
      "source": [
        "num = 0\n",
        "num = int(input(\"introdusca un numero entero positivo: \"))\n",
        "def factorial(num): \n",
        "    x = 1\n",
        "    y = 1\n",
        "    while y <= num:\n",
        "        x = x * y\n",
        "        y = y + 1\n",
        "    return x\n",
        "print(\"El resultado es: \",factorial(num))    "
      ],
      "execution_count": 24,
      "outputs": [
        {
          "output_type": "stream",
          "text": [
            "introdusca un numero entero positivo: 4\n",
            "El resultado es:  24\n"
          ],
          "name": "stdout"
        }
      ]
    }
  ]
}