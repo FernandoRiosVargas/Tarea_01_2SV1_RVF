{
  "nbformat": 4,
  "nbformat_minor": 0,
  "metadata": {
    "colab": {
      "name": "Programa_8.ipynb",
      "provenance": [],
      "collapsed_sections": []
    },
    "kernelspec": {
      "display_name": "Python 3",
      "name": "python3"
    }
  },
  "cells": [
    {
      "cell_type": "markdown",
      "metadata": {
        "id": "37Lf9t8FilCj"
      },
      "source": [
        "8. Escribir un programa que pida al usuario un numero entero y muestre en pantalla un triangulo\n",
        "rectangulo.\n"
      ]
    },
    {
      "cell_type": "code",
      "metadata": {
        "id": "ve1nQH88izLK",
        "outputId": "29208956-ba9e-4421-8cc9-833403423935",
        "colab": {
          "base_uri": "https://localhost:8080/"
        }
      },
      "source": [
        "num = int(input(\"Ingresa un numero entero positivo: \"))\n",
        "for i in range(num):\n",
        "   print(\"*\"*(i+1))"
      ],
      "execution_count": 1,
      "outputs": [
        {
          "output_type": "stream",
          "text": [
            "Ingresa un numero entero positivo: 6\n",
            "*\n",
            "**\n",
            "***\n",
            "****\n",
            "*****\n",
            "******\n"
          ],
          "name": "stdout"
        }
      ]
    }
  ]
}